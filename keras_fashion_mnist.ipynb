{
  "nbformat": 4,
  "nbformat_minor": 0,
  "metadata": {
    "colab": {
      "name": "keras_fashion_mnist.ipynb",
      "provenance": [],
      "collapsed_sections": [],
      "authorship_tag": "ABX9TyNZap6TigvZRD6o7rdrePrt",
      "include_colab_link": true
    },
    "kernelspec": {
      "name": "python3",
      "display_name": "Python 3"
    },
    "language_info": {
      "name": "python"
    }
  },
  "cells": [
    {
      "cell_type": "markdown",
      "metadata": {
        "id": "view-in-github",
        "colab_type": "text"
      },
      "source": [
        "<a href=\"https://colab.research.google.com/github/albertofernandezvillan/ml-dl-cv-notebooks/blob/main/keras_fashion_mnist.ipynb\" target=\"_parent\"><img src=\"https://colab.research.google.com/assets/colab-badge.svg\" alt=\"Open In Colab\"/></a>"
      ]
    },
    {
      "cell_type": "markdown",
      "metadata": {
        "id": "i1qyNXP26rJ1"
      },
      "source": [
        "References:\n",
        "\n",
        "- https://www.tensorflow.org/tutorials/keras/classification?hl=es-419\n",
        "- https://www.pyimagesearch.com/2019/02/11/fashion-mnist-with-keras-and-deep-learning/\n",
        "- https://machinelearningmastery.com/how-to-develop-a-cnn-from-scratch-for-fashion-mnist-clothing-classification/"
      ]
    },
    {
      "cell_type": "code",
      "metadata": {
        "id": "kaDOLZbuOKTd"
      },
      "source": [
        "import tensorflow as tf\n",
        "import matplotlib.pyplot as plt\n",
        "import numpy as np"
      ],
      "execution_count": 1,
      "outputs": []
    },
    {
      "cell_type": "code",
      "metadata": {
        "id": "b2CSMVToRYMJ"
      },
      "source": [
        "(x_train, y_train), (x_test, y_test) = tf.keras.datasets.fashion_mnist.load_data()\n",
        "\n",
        "assert x_train.shape == (60000, 28, 28)\n",
        "assert x_test.shape == (10000, 28, 28)\n",
        "assert y_train.shape == (60000,)\n",
        "assert y_test.shape == (10000,)"
      ],
      "execution_count": null,
      "outputs": []
    },
    {
      "cell_type": "code",
      "metadata": {
        "colab": {
          "base_uri": "https://localhost:8080/",
          "height": 283
        },
        "id": "vSact9dISD8e",
        "outputId": "124f459b-06cb-41f5-ab6c-8b553e830ea6"
      },
      "source": [
        "plt.imshow(x_train[0], cmap='gray')"
      ],
      "execution_count": 3,
      "outputs": [
        {
          "output_type": "execute_result",
          "data": {
            "text/plain": [
              "<matplotlib.image.AxesImage at 0x7f81fad2f910>"
            ]
          },
          "metadata": {
            "tags": []
          },
          "execution_count": 3
        },
        {
          "output_type": "display_data",
          "data": {
            "image/png": "[encoded data removed]",
            "text/plain": [
              "<Figure size 432x288 with 1 Axes>"
            ]
          },
          "metadata": {
            "tags": [],
            "needs_background": "light"
          }
        }
      ]
    },
    {
      "cell_type": "code",
      "metadata": {
        "id": "Os6U2xsQSVHp"
      },
      "source": [
        "def range_arr(x):\n",
        "  return (np.min(x), np.max(x))"
      ],
      "execution_count": 4,
      "outputs": []
    },
    {
      "cell_type": "code",
      "metadata": {
        "colab": {
          "base_uri": "https://localhost:8080/"
        },
        "id": "LPjh6cD2ShAV",
        "outputId": "e75ba077-e339-47ec-cf5c-6b9460cf729d"
      },
      "source": [
        "print(range_arr(x_train[0]))\n",
        "print(y_train[0])"
      ],
      "execution_count": 5,
      "outputs": [
        {
          "output_type": "stream",
          "text": [
            "(0, 255)\n",
            "9\n"
          ],
          "name": "stdout"
        }
      ]
    },
    {
      "cell_type": "code",
      "metadata": {
        "id": "hpQmoWu2UKSg"
      },
      "source": [
        "# A common practice is to normalize data in the rage [0,1] instead of [0, 255]\n",
        "x_train, x_test = x_train / 255.0, x_test / 255.0"
      ],
      "execution_count": 6,
      "outputs": []
    },
    {
      "cell_type": "code",
      "metadata": {
        "colab": {
          "base_uri": "https://localhost:8080/"
        },
        "id": "bWe-cwwIUPMX",
        "outputId": "22199b26-650e-4310-e1e2-f97c3ec865cf"
      },
      "source": [
        "print(range_arr(x_train[0]))"
      ],
      "execution_count": 7,
      "outputs": [
        {
          "output_type": "stream",
          "text": [
            "(0.0, 1.0)\n"
          ],
          "name": "stdout"
        }
      ]
    },
    {
      "cell_type": "code",
      "metadata": {
        "colab": {
          "base_uri": "https://localhost:8080/",
          "height": 283
        },
        "id": "hRqxgxhoUgEY",
        "outputId": "33e034e2-ff28-4afa-cbe8-cf41aef4e236"
      },
      "source": [
        "plt.imshow(x_train[0], cmap='gray')"
      ],
      "execution_count": 8,
      "outputs": [
        {
          "output_type": "execute_result",
          "data": {
            "text/plain": [
              "<matplotlib.image.AxesImage at 0x7f81fad4d690>"
            ]
          },
          "metadata": {
            "tags": []
          },
          "execution_count": 8
        },
        {
          "output_type": "display_data",
          "data": {
            "image/png": "[encoded data removed]",
            "text/plain": [
              "<Figure size 432x288 with 1 Axes>"
            ]
          },
          "metadata": {
            "tags": [],
            "needs_background": "light"
          }
        }
      ]
    },
    {
      "cell_type": "code",
      "metadata": {
        "id": "cGxmQ3_FU0KY"
      },
      "source": [
        "# When using InputLayer with Keras Sequential model, it can be skipped by\n",
        "# moving the input_shape parameter to the first layer after the InputLayer\n",
        "\n",
        "# Without InputLayer and let the first layer to have the input_shape,\n",
        "# Keras will add a input for the model behind the scene.\n",
        "\n",
        "def build_simple_model_sequential(in_shape, num_classes):\n",
        "  # Groups a linear stack of layers into a tf.keras.Model\n",
        "  model = tf.keras.models.Sequential()\n",
        "\n",
        "  model.add(tf.keras.layers.InputLayer(input_shape=in_shape))\n",
        "  model.add(tf.keras.layers.Flatten())\n",
        "  model.add(tf.keras.layers.Dense(128, activation='relu'))\n",
        "  model.add(tf.keras.layers.Dense(num_classes, activation='softmax'))\n",
        "\n",
        "  return model  "
      ],
      "execution_count": 9,
      "outputs": []
    },
    {
      "cell_type": "code",
      "metadata": {
        "id": "J4THHb3AYI1q"
      },
      "source": [
        "my_model = build_simple_model_sequential((28,28), 10)"
      ],
      "execution_count": 10,
      "outputs": []
    },
    {
      "cell_type": "code",
      "metadata": {
        "colab": {
          "base_uri": "https://localhost:8080/"
        },
        "id": "k0EmLAjJbtjQ",
        "outputId": "f7e1a4f2-fb06-4c32-b665-06f7c174f685"
      },
      "source": [
        "my_model.summary()"
      ],
      "execution_count": 11,
      "outputs": [
        {
          "output_type": "stream",
          "text": [
            "Model: \"sequential\"\n",
            "_________________________________________________________________\n",
            "Layer (type)                 Output Shape              Param #   \n",
            "=================================================================\n",
            "flatten (Flatten)            (None, 784)               0         \n",
            "_________________________________________________________________\n",
            "dense (Dense)                (None, 128)               100480    \n",
            "_________________________________________________________________\n",
            "dense_1 (Dense)              (None, 10)                1290      \n",
            "=================================================================\n",
            "Total params: 101,770\n",
            "Trainable params: 101,770\n",
            "Non-trainable params: 0\n",
            "_________________________________________________________________\n"
          ],
          "name": "stdout"
        }
      ]
    },
    {
      "cell_type": "code",
      "metadata": {
        "colab": {
          "base_uri": "https://localhost:8080/",
          "height": 422
        },
        "id": "RCIdqa8x6XVP",
        "outputId": "6ce0c4bb-e3fd-4476-868b-a3787ac34b99"
      },
      "source": [
        "tf.keras.utils.plot_model(my_model, to_file='my_model.png', show_shapes=True, show_layer_names=True)"
      ],
      "execution_count": 16,
      "outputs": [
        {
          "output_type": "execute_result",
          "data": {
            "image/png": "[encoded data removed]",
            "text/plain": [
              "<IPython.core.display.Image object>"
            ]
          },
          "metadata": {
            "tags": []
          },
          "execution_count": 16
        }
      ]
    },
    {
      "cell_type": "code",
      "metadata": {
        "id": "S4LvCEYde1F8"
      },
      "source": [
        "my_model.compile(optimizer='adam', loss='sparse_categorical_crossentropy', metrics=['accuracy'])"
      ],
      "execution_count": 17,
      "outputs": []
    },
    {
      "cell_type": "code",
      "metadata": {
        "colab": {
          "base_uri": "https://localhost:8080/"
        },
        "id": "Xn0ERwG_gXPN",
        "outputId": "c7d1e90c-47d9-4ff2-f895-357aed65eac9"
      },
      "source": [
        "history = my_model.fit(x = x_train, y = y_train, batch_size= 128, epochs = 10, validation_data = (x_test, y_test))"
      ],
      "execution_count": 18,
      "outputs": [
        {
          "output_type": "stream",
          "text": [
            "Epoch 1/10\n",
            "469/469 [==============================] - 3s 4ms/step - loss: 0.5565 - accuracy: 0.8078 - val_loss: 0.4611 - val_accuracy: 0.8389\n",
            "Epoch 2/10\n",
            "469/469 [==============================] - 2s 4ms/step - loss: 0.4064 - accuracy: 0.8578 - val_loss: 0.4282 - val_accuracy: 0.8472\n",
            "Epoch 3/10\n",
            "469/469 [==============================] - 2s 4ms/step - loss: 0.3650 - accuracy: 0.8692 - val_loss: 0.4215 - val_accuracy: 0.8474\n",
            "Epoch 4/10\n",
            "469/469 [==============================] - 2s 4ms/step - loss: 0.3402 - accuracy: 0.8788 - val_loss: 0.3732 - val_accuracy: 0.8664\n",
            "Epoch 5/10\n",
            "469/469 [==============================] - 2s 4ms/step - loss: 0.3215 - accuracy: 0.8845 - val_loss: 0.3682 - val_accuracy: 0.8694\n",
            "Epoch 6/10\n",
            "469/469 [==============================] - 2s 4ms/step - loss: 0.3024 - accuracy: 0.8903 - val_loss: 0.3578 - val_accuracy: 0.8727\n",
            "Epoch 7/10\n",
            "469/469 [==============================] - 2s 4ms/step - loss: 0.2912 - accuracy: 0.8954 - val_loss: 0.3549 - val_accuracy: 0.8744\n",
            "Epoch 8/10\n",
            "469/469 [==============================] - 2s 4ms/step - loss: 0.2820 - accuracy: 0.8977 - val_loss: 0.3366 - val_accuracy: 0.8803\n",
            "Epoch 9/10\n",
            "469/469 [==============================] - 2s 4ms/step - loss: 0.2720 - accuracy: 0.9017 - val_loss: 0.3491 - val_accuracy: 0.8780\n",
            "Epoch 10/10\n",
            "469/469 [==============================] - 2s 4ms/step - loss: 0.2616 - accuracy: 0.9056 - val_loss: 0.3424 - val_accuracy: 0.8806\n"
          ],
          "name": "stdout"
        }
      ]
    },
    {
      "cell_type": "code",
      "metadata": {
        "colab": {
          "base_uri": "https://localhost:8080/"
        },
        "id": "gSLGxLs3iKdG",
        "outputId": "e438bb75-394f-4bee-f7de-ca54e4c18793"
      },
      "source": [
        "# To 'expand' the dimensions we can also perform \n",
        "#  np.expand_dims(x_test[0], 0)\n",
        "predictions = my_model.predict(x_test[0].reshape(1, 28, 28))\n",
        "\n",
        "print(predictions.shape)"
      ],
      "execution_count": 19,
      "outputs": [
        {
          "output_type": "stream",
          "text": [
            "(1, 10)\n"
          ],
          "name": "stdout"
        }
      ]
    },
    {
      "cell_type": "code",
      "metadata": {
        "colab": {
          "base_uri": "https://localhost:8080/"
        },
        "id": "8YadhXnxk32H",
        "outputId": "f8b5bbd1-804e-4ede-f4f7-b33cca6edff9"
      },
      "source": [
        "np.argmax(predictions[0])"
      ],
      "execution_count": 20,
      "outputs": [
        {
          "output_type": "execute_result",
          "data": {
            "text/plain": [
              "9"
            ]
          },
          "metadata": {
            "tags": []
          },
          "execution_count": 20
        }
      ]
    },
    {
      "cell_type": "code",
      "metadata": {
        "id": "dlpwpKN6lHKD"
      },
      "source": [
        "class_names = ['T-shirt/top', 'Trouser', 'Pullover', 'Dress', 'Coat', 'Sandal', 'Shirt', 'Sneaker', 'Bag', 'Ankle boot']"
      ],
      "execution_count": 21,
      "outputs": []
    },
    {
      "cell_type": "code",
      "metadata": {
        "colab": {
          "base_uri": "https://localhost:8080/",
          "height": 279
        },
        "id": "WKfhuhD6lKze",
        "outputId": "955f75b4-a6e0-4726-f888-cbc7f97f591d"
      },
      "source": [
        "plt.imshow(x_test[0], cmap='gray')\n",
        "plt.xlabel(class_names[np.argmax(predictions[0])])\n",
        "plt.show()"
      ],
      "execution_count": 22,
      "outputs": [
        {
          "output_type": "display_data",
          "data": {
            "image/png": "[encoded data removed]",
            "text/plain": [
              "<Figure size 432x288 with 1 Axes>"
            ]
          },
          "metadata": {
            "tags": [],
            "needs_background": "light"
          }
        }
      ]
    },
    {
      "cell_type": "code",
      "metadata": {
        "id": "E0-psf6Wl6d1"
      },
      "source": [
        "my_model.save('keras_fashion.h5')"
      ],
      "execution_count": 23,
      "outputs": []
    },
    {
      "cell_type": "code",
      "metadata": {
        "id": "MDxni5xMmA9a"
      },
      "source": [
        "my_model_reconstructed = tf.keras.models.load_model('keras_fashion.h5')"
      ],
      "execution_count": 24,
      "outputs": []
    },
    {
      "cell_type": "code",
      "metadata": {
        "colab": {
          "base_uri": "https://localhost:8080/"
        },
        "id": "A4xg7hu0mSj_",
        "outputId": "025869a2-4c3c-4140-f10b-cefc26da02c6"
      },
      "source": [
        "my_model_reconstructed.summary()"
      ],
      "execution_count": 25,
      "outputs": [
        {
          "output_type": "stream",
          "text": [
            "Model: \"sequential\"\n",
            "_________________________________________________________________\n",
            "Layer (type)                 Output Shape              Param #   \n",
            "=================================================================\n",
            "flatten (Flatten)            (None, 784)               0         \n",
            "_________________________________________________________________\n",
            "dense (Dense)                (None, 128)               100480    \n",
            "_________________________________________________________________\n",
            "dense_1 (Dense)              (None, 10)                1290      \n",
            "=================================================================\n",
            "Total params: 101,770\n",
            "Trainable params: 101,770\n",
            "Non-trainable params: 0\n",
            "_________________________________________________________________\n"
          ],
          "name": "stdout"
        }
      ]
    },
    {
      "cell_type": "code",
      "metadata": {
        "colab": {
          "base_uri": "https://localhost:8080/"
        },
        "id": "F2OcT19Dmel9",
        "outputId": "fd7235ca-d2ba-4997-d5d9-cc930d35f61d"
      },
      "source": [
        "# In this case the metrics are: \n",
        "# accuracy, loss, val_accuracy, val_loss\n",
        "history.history"
      ],
      "execution_count": 26,
      "outputs": [
        {
          "output_type": "execute_result",
          "data": {
            "text/plain": [
              "{'accuracy': [0.8078166842460632,\n",
              "  0.8578333258628845,\n",
              "  0.8691999912261963,\n",
              "  0.8788333535194397,\n",
              "  0.8845499753952026,\n",
              "  0.8902666568756104,\n",
              "  0.8954333066940308,\n",
              "  0.8977000117301941,\n",
              "  0.9016833305358887,\n",
              "  0.9056333303451538],\n",
              " 'loss': [0.5565106868743896,\n",
              "  0.4063704013824463,\n",
              "  0.3649647533893585,\n",
              "  0.34024477005004883,\n",
              "  0.32145261764526367,\n",
              "  0.30235275626182556,\n",
              "  0.29122912883758545,\n",
              "  0.281991571187973,\n",
              "  0.271994024515152,\n",
              "  0.26162466406822205],\n",
              " 'val_accuracy': [0.8389000296592712,\n",
              "  0.8471999764442444,\n",
              "  0.8474000096321106,\n",
              "  0.8664000034332275,\n",
              "  0.8694000244140625,\n",
              "  0.8726999759674072,\n",
              "  0.8744000196456909,\n",
              "  0.880299985408783,\n",
              "  0.878000020980835,\n",
              "  0.8805999755859375],\n",
              " 'val_loss': [0.46111446619033813,\n",
              "  0.42815595865249634,\n",
              "  0.42153945565223694,\n",
              "  0.3731966018676758,\n",
              "  0.36816418170928955,\n",
              "  0.357767254114151,\n",
              "  0.3548889756202698,\n",
              "  0.3366435468196869,\n",
              "  0.349056214094162,\n",
              "  0.3423554599285126]}"
            ]
          },
          "metadata": {
            "tags": []
          },
          "execution_count": 26
        }
      ]
    },
    {
      "cell_type": "code",
      "metadata": {
        "id": "KZC0Ekw0oJ_I"
      },
      "source": [
        "def plot_metric(history, metric):\n",
        "  history_train_metric = history.history[metric]\n",
        "  history_val_metric = history.history['val_'+metric]\n",
        "\n",
        "  epochs = range(1, len(history_train_metric) + 1)\n",
        "\n",
        "  # First we plot the train metric and then, the test metric\n",
        "  # Therefore, the legend is built accordingly\n",
        "  plt.plot(epochs, history_train_metric, 'bo--')\n",
        "  plt.plot(epochs, history_val_metric, 'ro-')\n",
        "  plt.legend([\"train_\"+metric, \"test_\"+metric])\n",
        "\n",
        "  plt.xlabel(\"Epochs\")\n",
        "  plt.ylabel(metric) \n",
        "\n",
        "  plt.show()"
      ],
      "execution_count": 36,
      "outputs": []
    },
    {
      "cell_type": "code",
      "metadata": {
        "colab": {
          "base_uri": "https://localhost:8080/",
          "height": 279
        },
        "id": "0FO_pFR3qIHu",
        "outputId": "715bf292-caff-4092-d05d-ee061abd13ac"
      },
      "source": [
        "plot_metric(history, 'accuracy')"
      ],
      "execution_count": 37,
      "outputs": [
        {
          "output_type": "display_data",
          "data": {
            "image/png": "[encoded data removed]",
            "text/plain": [
              "<Figure size 432x288 with 1 Axes>"
            ]
          },
          "metadata": {
            "tags": [],
            "needs_background": "light"
          }
        }
      ]
    },
    {
      "cell_type": "code",
      "metadata": {
        "colab": {
          "base_uri": "https://localhost:8080/",
          "height": 279
        },
        "id": "DwPk36pHqOaK",
        "outputId": "4991eeab-3602-4dbd-fa06-c3dbccb09691"
      },
      "source": [
        "plot_metric(history, 'loss')"
      ],
      "execution_count": 38,
      "outputs": [
        {
          "output_type": "display_data",
          "data": {
            "image/png": "[encoded data removed]",
            "text/plain": [
              "<Figure size 432x288 with 1 Axes>"
            ]
          },
          "metadata": {
            "tags": [],
            "needs_background": "light"
          }
        }
      ]
    },
    {
      "cell_type": "code",
      "metadata": {
        "id": "w1RTlrn14Vc8"
      },
      "source": [
        "from sklearn.metrics import classification_report"
      ],
      "execution_count": 41,
      "outputs": []
    },
    {
      "cell_type": "code",
      "metadata": {
        "id": "NVh-6chY5T-q"
      },
      "source": [
        "predictions = np.argmax(my_model.predict(x_test), axis = 1)"
      ],
      "execution_count": 39,
      "outputs": []
    },
    {
      "cell_type": "code",
      "metadata": {
        "colab": {
          "base_uri": "https://localhost:8080/"
        },
        "id": "PVWktS-y4XAl",
        "outputId": "3f5cc6b7-1a4d-45af-8b29-af59b3d10c40"
      },
      "source": [
        "# This function needs both y_true and y_predicted\n",
        "print(classification_report(y_test, predictions))"
      ],
      "execution_count": 42,
      "outputs": [
        {
          "output_type": "stream",
          "text": [
            "              precision    recall  f1-score   support\n",
            "\n",
            "           0       0.87      0.80      0.83      1000\n",
            "           1       0.99      0.97      0.98      1000\n",
            "           2       0.77      0.84      0.80      1000\n",
            "           3       0.89      0.87      0.88      1000\n",
            "           4       0.82      0.78      0.80      1000\n",
            "           5       0.98      0.94      0.96      1000\n",
            "           6       0.67      0.74      0.70      1000\n",
            "           7       0.92      0.96      0.94      1000\n",
            "           8       0.99      0.95      0.97      1000\n",
            "           9       0.95      0.95      0.95      1000\n",
            "\n",
            "    accuracy                           0.88     10000\n",
            "   macro avg       0.88      0.88      0.88     10000\n",
            "weighted avg       0.88      0.88      0.88     10000\n",
            "\n"
          ],
          "name": "stdout"
        }
      ]
    }
  ]
}