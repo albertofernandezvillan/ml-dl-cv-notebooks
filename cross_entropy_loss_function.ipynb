{
  "nbformat": 4,
  "nbformat_minor": 0,
  "metadata": {
    "colab": {
      "name": "cross_entropy_loss_function.ipynb",
      "provenance": [],
      "collapsed_sections": [],
      "authorship_tag": "ABX9TyMlTvPcrkRiwa8YjJ7Zr2hY",
      "include_colab_link": true
    },
    "kernelspec": {
      "name": "python3",
      "display_name": "Python 3"
    },
    "language_info": {
      "name": "python"
    }
  },
  "cells": [
    {
      "cell_type": "markdown",
      "metadata": {
        "id": "view-in-github",
        "colab_type": "text"
      },
      "source": [
        "<a href=\"https://colab.research.google.com/github/albertofernandezvillan/ml-dl-cv-notebooks/blob/main/cross_entropy_loss_function.ipynb\" target=\"_parent\"><img src=\"https://colab.research.google.com/assets/colab-badge.svg\" alt=\"Open In Colab\"/></a>"
      ]
    },
    {
      "cell_type": "markdown",
      "metadata": {
        "id": "nWdGwnqpabZB"
      },
      "source": [
        "# Cross-Entropy Loss Function\n",
        "\n",
        "Also called **logarithmic loss**, **log loss** or **logistic loss**. Each predicted class probability is compared to the actual class desired output 0 or 1 and a score/loss is calculated that penalizes the probability based on how far it is from the actual expected value. The penalty is logarithmic in nature yielding a large score for large differences close to 1 and small score for small differences tending to 0.\n",
        "\n",
        "Cross-entropy loss is used when adjusting model weights during training. The aim is to minimize the loss, i.e, the smaller the loss the better the model. A perfect model has a cross-entropy loss of 0.\n",
        "\n",
        "`binary_crossentropy`: Used as a loss function for binary classification model. The `binary_crossentropy` function computes the cross-entropy loss between true labels and predicted labels.\n",
        "\n",
        "`categorical_crossentropy`: Used as a loss function for multi-class classification model where there are two or more output labels. The output label is assigned one-hot category encoding value in form of 0s and 1.\n",
        "\n",
        "`sparse_categorical_crossentropy`: Used as a loss function for multi-class classification model where the output label is assigned integer value (0, 1, 2, 3…). This loss function is mathematically same as the `categorical_crossentropy`. It just has a different interface.\n",
        "\n",
        "\n",
        "* https://vitalflux.com/cross-entropy-loss-explained-with-python-examples/\n",
        "* https://towardsdatascience.com/cross-entropy-for-classification-d98e7f974451\n",
        "* https://towardsdatascience.com/cross-entropy-loss-function-f38c4ec8643e\n",
        "* https://ml-cheatsheet.readthedocs.io/en/latest/loss_functions.html"
      ]
    },
    {
      "cell_type": "code",
      "metadata": {
        "colab": {
          "base_uri": "https://localhost:8080/"
        },
        "id": "YV1L4tZXNoFZ",
        "outputId": "aa730e05-6cb5-43ee-bdbf-a6fbb869a479"
      },
      "source": [
        "# https://machinelearningmastery.com/cross-entropy-for-machine-learning/\n",
        "\n",
        "from numpy import asarray\n",
        "from keras import backend\n",
        "from keras.losses import binary_crossentropy\n",
        "\n",
        "# prepare classification data\n",
        "p = asarray([1, 0, 0, 0])\n",
        "q = asarray([0.775, 0.116, 0.039, 0.070])\n",
        "\n",
        "# convert to keras variables\n",
        "y_true = backend.variable(p)\n",
        "y_pred = backend.variable(q)\n",
        "\n",
        "# calculate the average cross-entropy\n",
        "mean_ce = backend.eval(binary_crossentropy(y_true, y_pred))\n",
        "print('Average Cross Entropy: %.3f nats' % mean_ce)"
      ],
      "execution_count": null,
      "outputs": [
        {
          "output_type": "stream",
          "text": [
            "Average Cross Entropy: 0.123 nats\n"
          ],
          "name": "stdout"
        }
      ]
    },
    {
      "cell_type": "code",
      "metadata": {
        "colab": {
          "base_uri": "https://localhost:8080/"
        },
        "id": "O-rnVoGGVszq",
        "outputId": "d4a8d946-67be-489c-bfca-43d560538885"
      },
      "source": [
        "# https://keras.io/api/losses/probabilistic_losses/#binarycrossentropy-class\n",
        "\n",
        "# Example 1: (batch_size = 1, number of samples = 4)\n",
        "# y_true (true label): This is either 0 or 1.\n",
        "# y_pred (predicted value): This is the model's prediction\n",
        "# which either represents a logit, (i.e, value in [-inf, inf] when from_logits=True) \n",
        "# or a probability (i.e, value in [0., 1.] when from_logits=False).\n",
        "\n",
        "import tensorflow as tf\n",
        "\n",
        "y_true = [1, 0, 0, 0]\n",
        "y_pred = [0.775, 0.116, 0.039, 0.070]\n",
        "\n",
        "bce = tf.keras.losses.BinaryCrossentropy(from_logits=False)\n",
        "res_1 = bce(y_true, y_pred).numpy()\n",
        "print(res_1)"
      ],
      "execution_count": null,
      "outputs": [
        {
          "output_type": "stream",
          "text": [
            "0.12263538\n"
          ],
          "name": "stdout"
        }
      ]
    },
    {
      "cell_type": "code",
      "metadata": {
        "colab": {
          "base_uri": "https://localhost:8080/"
        },
        "id": "w6Y8Qkg5WqFc",
        "outputId": "c0c93c3b-84fc-4bbb-afb9-7046accbfdee"
      },
      "source": [
        "import tensorflow as tf\n",
        "\n",
        "y_true = [1, 1, 1, 1]\n",
        "y_pred = [0.775, 0.116, 0.039, 0.070]\n",
        "\n",
        "bce = tf.keras.losses.BinaryCrossentropy(from_logits=False)\n",
        "res_2 = bce(y_true, y_pred).numpy()\n",
        "print(res_2)"
      ],
      "execution_count": null,
      "outputs": [
        {
          "output_type": "stream",
          "text": [
            "2.0781264\n"
          ],
          "name": "stdout"
        }
      ]
    },
    {
      "cell_type": "code",
      "metadata": {
        "colab": {
          "base_uri": "https://localhost:8080/"
        },
        "id": "68YU0k5zZy0z",
        "outputId": "52c9362c-da2e-4715-9dc9-40a84a501bd1"
      },
      "source": [
        "print((res_1 + res_2)/2)"
      ],
      "execution_count": null,
      "outputs": [
        {
          "output_type": "stream",
          "text": [
            "1.1003808975219727\n"
          ],
          "name": "stdout"
        }
      ]
    },
    {
      "cell_type": "code",
      "metadata": {
        "colab": {
          "base_uri": "https://localhost:8080/"
        },
        "id": "LC9Vk1uMWvUW",
        "outputId": "6fa19fd6-91b9-49cc-cdc7-df6d46e7243d"
      },
      "source": [
        "import tensorflow as tf\n",
        "\n",
        "# Example 2: (batch_size = 2, number of samples = 4)  \n",
        "y_true = [[1, 1], [0, 1], [0, 1], [0, 1]]\n",
        "y_pred = [[0.775, 0.775], [0.116, 0.116], [0.039, 0.039], [0.070, 0.070]]\n",
        "\n",
        "bce = tf.keras.losses.BinaryCrossentropy(from_logits=False)\n",
        "bce(y_true, y_pred).numpy()"
      ],
      "execution_count": null,
      "outputs": [
        {
          "output_type": "execute_result",
          "data": {
            "text/plain": [
              "1.1003809"
            ]
          },
          "metadata": {
            "tags": []
          },
          "execution_count": 39
        }
      ]
    },
    {
      "cell_type": "markdown",
      "metadata": {
        "id": "oPDGDWKMopQa"
      },
      "source": [
        "<img src=\"https://miro.medium.com/max/3648/1*wz59MnXkXdWxrq_fkA2wew.png\">"
      ]
    },
    {
      "cell_type": "code",
      "metadata": {
        "id": "Uh62znnET7fz"
      },
      "source": [
        "# https://stats.stackexchange.com/questions/303229/why-does-keras-binary-crossentropy-loss-function-return-wrong-values/303254\n",
        "\n",
        "import keras.backend as K\n",
        "import numpy as np\n",
        "import math\n",
        "\n",
        "def my_binary_crossentropy(y_true, y_pred):\n",
        "    result = []\n",
        "    for i in range(len(y_pred)):\n",
        "        y_pred[i] = [max(min(x, 1 - K.epsilon()), K.epsilon()) for x in y_pred[i]]\n",
        "        result.append(-np.mean([y_true[i][j] * math.log(y_pred[i][j]) + (1 - y_true[i][j]) * math.log(1 - y_pred[i][j]) for j in range(len(y_pred[i]))]))\n",
        "    return np.mean(result)"
      ],
      "execution_count": null,
      "outputs": []
    },
    {
      "cell_type": "code",
      "metadata": {
        "colab": {
          "base_uri": "https://localhost:8080/"
        },
        "id": "PBaay9bnT_2W",
        "outputId": "76c98f4b-e246-4a3c-9997-63b89b46d931"
      },
      "source": [
        "y_true = np.array([[1, 0, 0, 0]])\n",
        "y_pred = np.array([[0.775, 0.116, 0.039, 0.070]])\n",
        "\n",
        "print(my_binary_crossentropy(y_true, y_pred))"
      ],
      "execution_count": null,
      "outputs": [
        {
          "output_type": "stream",
          "text": [
            "0.12263550720499095\n"
          ],
          "name": "stdout"
        }
      ]
    },
    {
      "cell_type": "code",
      "metadata": {
        "colab": {
          "base_uri": "https://localhost:8080/"
        },
        "id": "by20YGgKdbxX",
        "outputId": "12ad8852-c332-44d8-b9b9-46ee58d64c72"
      },
      "source": [
        "y_true = np.array([[1, 1], [0, 1], [0, 1], [0, 1]])\n",
        "y_pred = np.array([[0.775, 0.775], [0.116, 0.116], [0.039, 0.039], [0.070, 0.070]])\n",
        "\n",
        "my_binary_crossentropy(y_true, y_pred)"
      ],
      "execution_count": null,
      "outputs": [
        {
          "output_type": "execute_result",
          "data": {
            "text/plain": [
              "1.1003816295137243"
            ]
          },
          "metadata": {
            "tags": []
          },
          "execution_count": 48
        }
      ]
    },
    {
      "cell_type": "code",
      "metadata": {
        "id": "Gs3zpwyohD_Q"
      },
      "source": [
        "y_true = np.ones(100)\n",
        "y_pred = np.arange(0, 10, 0.1)"
      ],
      "execution_count": null,
      "outputs": []
    },
    {
      "cell_type": "code",
      "metadata": {
        "colab": {
          "base_uri": "https://localhost:8080/"
        },
        "id": "oFQZRwhqh3Xh",
        "outputId": "6a093f4a-f0f7-4a84-a39a-f121f3376e96"
      },
      "source": [
        "bce = tf.keras.losses.BinaryCrossentropy(from_logits=False)\n",
        "bce(y_true, y_pred).numpy()"
      ],
      "execution_count": null,
      "outputs": [
        {
          "output_type": "execute_result",
          "data": {
            "text/plain": [
              "0.2334638386964798"
            ]
          },
          "metadata": {
            "tags": []
          },
          "execution_count": 59
        }
      ]
    },
    {
      "cell_type": "code",
      "metadata": {
        "id": "aEpPC1wviQBi"
      },
      "source": [
        "# https://ml-cheatsheet.readthedocs.io/en/latest/loss_functions.html\n",
        "\n",
        "values = []\n",
        "y_true = [1]\n",
        "\n",
        "bce = tf.keras.losses.BinaryCrossentropy(from_logits=False)\n",
        "for y_pred in np.arange(0, 1, 0.001):\n",
        "  res = bce(y_true, [y_pred]).numpy()\n",
        "  values.append(res)  "
      ],
      "execution_count": null,
      "outputs": []
    },
    {
      "cell_type": "code",
      "metadata": {
        "colab": {
          "base_uri": "https://localhost:8080/",
          "height": 295
        },
        "id": "lhknUx6Xjl6g",
        "outputId": "a0daf906-c789-4a97-b241-06926753495b"
      },
      "source": [
        "import matplotlib.pyplot as plt\n",
        "\n",
        "plt.plot(np.arange(0, 1, 0.001), values)\n",
        "plt.ylabel('log loss')\n",
        "plt.xlabel('predicted probability')\n",
        "plt.title('log loss when true label = 1')\n",
        "plt.show()"
      ],
      "execution_count": null,
      "outputs": [
        {
          "output_type": "display_data",
          "data": {
            "image/png": "[encoded data removed]",
            "text/plain": [
              "<Figure size 432x288 with 1 Axes>"
            ]
          },
          "metadata": {
            "tags": [],
            "needs_background": "light"
          }
        }
      ]
    },
    {
      "cell_type": "code",
      "metadata": {
        "id": "aZfs93Qvj4hK"
      },
      "source": [
        "values = []\n",
        "y_true = [0]\n",
        "\n",
        "bce = tf.keras.losses.BinaryCrossentropy(from_logits=False)\n",
        "for y_pred in np.arange(0, 1, 0.001):\n",
        "  res = bce(y_true, [y_pred]).numpy()\n",
        "  values.append(res)  "
      ],
      "execution_count": null,
      "outputs": []
    },
    {
      "cell_type": "code",
      "metadata": {
        "colab": {
          "base_uri": "https://localhost:8080/",
          "height": 279
        },
        "id": "HsCRJ4L8j6-H",
        "outputId": "f8f8950e-69fa-42b7-9b7e-679f9d965969"
      },
      "source": [
        "import matplotlib.pyplot as plt\n",
        "\n",
        "plt.plot(np.arange(0, 1, 0.001), values)\n",
        "plt.ylabel('log loss')\n",
        "plt.xlabel('predicted probability')\n",
        "'log loss when true label = 0'\n",
        "plt.show()"
      ],
      "execution_count": null,
      "outputs": [
        {
          "output_type": "display_data",
          "data": {
            "image/png": "[encoded data removed]",
            "text/plain": [
              "<Figure size 432x288 with 1 Axes>"
            ]
          },
          "metadata": {
            "tags": [],
            "needs_background": "light"
          }
        }
      ]
    },
    {
      "cell_type": "markdown",
      "metadata": {
        "id": "wdC4aMGgSfb7"
      },
      "source": [
        "`CategoricalCrossentropy` class and `SparseCategoricalCrossentropy` class:"
      ]
    },
    {
      "cell_type": "code",
      "metadata": {
        "colab": {
          "base_uri": "https://localhost:8080/"
        },
        "id": "y5gH8lRxQUZ_",
        "outputId": "b5ba45f7-d78a-4b49-bb76-42d7bca26384"
      },
      "source": [
        "import tensorflow as tf\n",
        "import numpy as np\n",
        "\n",
        "# CategoricalCrossentropy\n",
        "# Computes the crossentropy loss between the labels and predictions.\n",
        "# Use this crossentropy loss function when there are two or more label classes. \n",
        "# We expect labels to be provided in a one_hot representation. \n",
        "y_true = [[0, 0, 1]]\n",
        "y_pred = [[0.05, 0.95, 0]]\n",
        "\n",
        "cce = tf.keras.losses.CategoricalCrossentropy()\n",
        "print(cce(y_true, y_pred).numpy())\n",
        "\n",
        "# SparseCategoricalCrossentropy\n",
        "# Computes the crossentropy loss between the labels and predictions.\n",
        "# Use this crossentropy loss function when there are two or more label classes. \n",
        "# We expect labels to be provided as integers.\n",
        "y_true = [[2]]\n",
        "y_pred = [[0.05, 0.95, 0]]\n",
        "\n",
        "scce = tf.keras.losses.SparseCategoricalCrossentropy()\n",
        "print(scce(y_true, y_pred).numpy())"
      ],
      "execution_count": 13,
      "outputs": [
        {
          "output_type": "stream",
          "text": [
            "16.118095\n",
            "16.118097\n"
          ],
          "name": "stdout"
        }
      ]
    },
    {
      "cell_type": "markdown",
      "metadata": {
        "id": "Hj5v3FWwUP17"
      },
      "source": [
        "# Python & NumPy utilities\n",
        "\n",
        "`tf.keras.utils.to_categorical(y, num_classes=None, dtype=\"float32\")`: Converts a class vector (integers) to binary class matrix. E.g. for use with categorical_crossentropy."
      ]
    },
    {
      "cell_type": "code",
      "metadata": {
        "colab": {
          "base_uri": "https://localhost:8080/"
        },
        "id": "A8IBJupEUK0w",
        "outputId": "0bae5e03-618f-4b13-c5e9-a3bc06edc405"
      },
      "source": [
        "a = tf.keras.utils.to_categorical([0, 1, 2, 3], num_classes=4)\n",
        "a = tf.constant(a, shape=[4, 4])\n",
        "\n",
        "b = tf.constant([.9, .04, .03, .03,\n",
        "                 .3, .45, .15, .13,\n",
        "                 .04, .01, .94, .05,\n",
        "                 .12, .21, .5, .17],\n",
        "                shape=[4, 4])\n",
        "\n",
        "cce = tf.keras.losses.CategoricalCrossentropy(reduction=tf.keras.losses.Reduction.NONE)\n",
        "print(cce(a, b).numpy())\n",
        "print(tf.keras.backend.categorical_crossentropy(a, b).numpy())\n",
        "print(tf.keras.losses.categorical_crossentropy(a, b).numpy())"
      ],
      "execution_count": 32,
      "outputs": [
        {
          "output_type": "stream",
          "text": [
            "tf.Tensor(\n",
            "[[1. 0. 0. 0.]\n",
            " [0. 1. 0. 0.]\n",
            " [0. 0. 1. 0.]\n",
            " [0. 0. 0. 1.]], shape=(4, 4), dtype=float32)\n",
            "[0.10536048 0.8280665  0.10109606 1.7719568 ]\n",
            "[0.10536048 0.8280665  0.10109606 1.7719568 ]\n",
            "[0.10536048 0.8280665  0.10109606 1.7719568 ]\n"
          ],
          "name": "stdout"
        }
      ]
    }
  ]
}