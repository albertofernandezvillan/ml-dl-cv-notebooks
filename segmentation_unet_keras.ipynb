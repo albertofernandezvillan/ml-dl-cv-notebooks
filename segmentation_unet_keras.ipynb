{
  "nbformat": 4,
  "nbformat_minor": 0,
  "metadata": {
    "colab": {
      "name": "segmentation_unet_keras",
      "private_outputs": true,
      "provenance": [],
      "collapsed_sections": [],
      "toc_visible": true,
      "include_colab_link": true
    },
    "kernelspec": {
      "name": "python3",
      "display_name": "Python 3"
    },
    "accelerator": "GPU"
  },
  "cells": [
    {
      "cell_type": "markdown",
      "metadata": {
        "id": "view-in-github",
        "colab_type": "text"
      },
      "source": [
        "<a href=\"https://colab.research.google.com/github/albertofernandezvillan/ml-dl-cv-notebooks/blob/main/segmentation_unet_keras.ipynb\" target=\"_parent\"><img src=\"https://colab.research.google.com/assets/colab-badge.svg\" alt=\"Open In Colab\"/></a>"
      ]
    },
    {
      "cell_type": "markdown",
      "metadata": {
        "id": "ULKtInm7dAMK"
      },
      "source": [
        "# Image Segmentation with Keras and UNET"
      ]
    },
    {
      "cell_type": "markdown",
      "metadata": {
        "id": "cl79rk4KKol8"
      },
      "source": [
        "TODO: include some explanation from the following links:\n",
        "*   https://stackoverflow.com/questions/47435526/what-is-the-meaning-of-axis-1-in-keras-argmax\n",
        "*   https://towardsdatascience.com/how-to-create-a-custom-loss-function-keras-3a89156ec69b\n",
        "*   https://www.tensorflow.org/guide/tensor\n",
        "*   https://colab.research.google.com/github/MarkDaoust/models/blob/segmentation_blogpost/samples/outreach/blogs/segmentation_blogpost/image_segmentation.ipynb\n",
        "\n",
        "\n",
        "**Segmentation** is the process of generating pixel-wise segmentations giving the class of the object visible at each pixel.\n",
        "\n",
        "We will be using the [Kaggle Carvana Image Masking Challenge Dataset](https://www.kaggle.com/c/carvana-image-masking-challenge). \n",
        "\n",
        "This dataset contains a large number of car images, with each car taken from different angles. In addition, for each car image, we have an associated manually cutout mask; our task will be to automatically create these cutout masks for unseen data. \n",
        "\n",
        "## Specific concepts that will be covered:\n",
        "* **[Functional API](https://keras.io/getting-started/functional-api-guide/)** - we will be implementing UNet, a convolutional network model classically used for biomedical image segmentation with the Functional API. \n",
        "  * This model has layers that require multiple input/outputs. This requires the use of the functional API\n",
        "  * Check out the original [paper](https://arxiv.org/abs/1505.04597), \n",
        "U-Net: Convolutional Networks for Biomedical Image Segmentation by Olaf Ronneberger!\n",
        "* **Custom Loss Functions and Metrics** - We'll implement a custom loss function using binary [**cross entropy**](https://developers.google.com/machine-learning/glossary/#cross-entropy) and **dice loss**. We'll also implement **dice coefficient** (which is used for our loss) and **mean intersection over union**, that will help us monitor our training process and judge how well we are performing. \n",
        "* **Saving and loading keras models** - We'll save our best model to disk. When we want to perform inference/evaluate our model, we'll load in the model from disk. "
      ]
    },
    {
      "cell_type": "code",
      "metadata": {
        "id": "ODNLPGHKKgr-"
      },
      "source": [
        "import os\n",
        "import glob\n",
        "import zipfile\n",
        "import functools\n",
        "import numpy as np\n",
        "import matplotlib.pyplot as plt\n",
        "from sklearn.model_selection import train_test_split\n",
        "import pandas as pd\n",
        "from PIL import Image"
      ],
      "execution_count": null,
      "outputs": []
    },
    {
      "cell_type": "code",
      "metadata": {
        "id": "YQ9VRReUQxXi"
      },
      "source": [
        "import tensorflow as tf\n",
        "from tensorflow.python.keras import layers\n",
        "from tensorflow.python.keras import losses\n",
        "from tensorflow.python.keras import models\n",
        "from tensorflow.python.keras import backend as K\n",
        "from tensorflow.data import AUTOTUNE"
      ],
      "execution_count": null,
      "outputs": []
    },
    {
      "cell_type": "markdown",
      "metadata": {
        "id": "y0KmZeKZL9nL"
      },
      "source": [
        "# Download data from Kaggle competition\n",
        "\n",
        "1. Install the latest version of Kaggle API\n",
        "2. Upload the file kaggle.json to Colab to the required directory\n",
        "3. Test the API is working\n",
        "4. Download required files from the competition"
      ]
    },
    {
      "cell_type": "code",
      "metadata": {
        "id": "bJcQiA3OdCY6"
      },
      "source": [
        "# Install kaggle API\n",
        "! pip install kaggle\n",
        "# Force install the latest version\n",
        "! pip install --upgrade --force-reinstall --no-deps kaggle"
      ],
      "execution_count": null,
      "outputs": []
    },
    {
      "cell_type": "code",
      "metadata": {
        "id": "dMUHigIkOao2"
      },
      "source": [
        "# Upload kaggle.json file to Colab\n",
        "from google.colab import files\n",
        "uploaded = files.upload()"
      ],
      "execution_count": null,
      "outputs": []
    },
    {
      "cell_type": "code",
      "metadata": {
        "id": "SODk4rG-OmM-"
      },
      "source": [
        "! mkdir ~/.kaggle\n",
        "! cp kaggle.json ~/.kaggle/\n",
        "! chmod 600 ~/.kaggle/kaggle.json\n",
        "! rm kaggle.json"
      ],
      "execution_count": null,
      "outputs": []
    },
    {
      "cell_type": "code",
      "metadata": {
        "id": "ZED_fI-XOtg6"
      },
      "source": [
        "# Check the API is working OK:\n",
        "!kaggle competitions list"
      ],
      "execution_count": null,
      "outputs": []
    },
    {
      "cell_type": "code",
      "metadata": {
        "id": "mkIwdd90O_aN"
      },
      "source": [
        "# If you want to download all the files from the competition:\n",
        "# !kaggle competitions download -c carvana-image-masking-challenge"
      ],
      "execution_count": null,
      "outputs": []
    },
    {
      "cell_type": "code",
      "metadata": {
        "id": "tNDjJfaaPSc8"
      },
      "source": [
        "# In this case we are going to use only train files:\n",
        "# We download required files and unzip them inside the database folder:\n",
        "! mkdir carvana_dataset\n",
        "\n",
        "! kaggle competitions download -f train.zip -c carvana-image-masking-challenge -p carvana_dataset\n",
        "! kaggle competitions download -f train_masks.csv.zip -c carvana-image-masking-challenge -p carvana_dataset\n",
        "! kaggle competitions download -f train_masks.zip -c carvana-image-masking-challenge -p carvana_dataset\n",
        "\n",
        "%cd carvana_dataset\n",
        "\n",
        "! unzip /content/carvana_dataset/train.zip\n",
        "! unzip /content/carvana_dataset/train_masks.csv.zip\n",
        "! unzip /content/carvana_dataset/train_masks.zip"
      ],
      "execution_count": null,
      "outputs": []
    },
    {
      "cell_type": "code",
      "metadata": {
        "id": "ZOi6cWKlTSod"
      },
      "source": [
        "%cd /content/"
      ],
      "execution_count": null,
      "outputs": []
    },
    {
      "cell_type": "code",
      "metadata": {
        "id": "7MMf5YkHTG5K"
      },
      "source": [
        "# Get de IDs of the images (and masks)\n",
        "root_folder = \"carvana_dataset\"\n",
        "\n",
        "img_dir = os.path.join(root_folder, \"train\")\n",
        "label_dir = os.path.join(root_folder, \"train_masks\")\n",
        "df_train = pd.read_csv(os.path.join(root_folder, 'train_masks.csv'))\n",
        "\n",
        "ids_train = df_train['img'].map(lambda s: s.split('.')[0])\n",
        "print(ids_train[:10])"
      ],
      "execution_count": null,
      "outputs": []
    },
    {
      "cell_type": "code",
      "metadata": {
        "id": "33i4xFXweztH"
      },
      "source": [
        "x_train_filenames = []\n",
        "y_train_filenames = []\n",
        "\n",
        "for img_id in ids_train:\n",
        "  x_train_filenames.append(os.path.join(img_dir, \"{}.jpg\".format(img_id)))\n",
        "  y_train_filenames.append(os.path.join(label_dir, \"{}_mask.gif\".format(img_id)))"
      ],
      "execution_count": null,
      "outputs": []
    },
    {
      "cell_type": "code",
      "metadata": {
        "id": "DtutNudKbf70"
      },
      "source": [
        "x_train_filenames, x_val_filenames, y_train_filenames, y_val_filenames = \\\n",
        "                    train_test_split(x_train_filenames, y_train_filenames, test_size=0.15, random_state=42)"
      ],
      "execution_count": null,
      "outputs": []
    },
    {
      "cell_type": "code",
      "metadata": {
        "id": "zDycQekHaMqq"
      },
      "source": [
        "num_train_examples = len(x_train_filenames)\n",
        "num_val_examples = len(x_val_filenames)\n",
        "\n",
        "print(\"Number of training examples: {}\".format(num_train_examples))\n",
        "print(\"Number of validation examples: {}\".format(num_val_examples))\n",
        "\n",
        "print(\"Some sample paths:\")\n",
        "print(x_train_filenames[:10])\n",
        "print(y_train_filenames[:10])"
      ],
      "execution_count": null,
      "outputs": []
    },
    {
      "cell_type": "markdown",
      "metadata": {
        "id": "mhvDoZkbcUa1"
      },
      "source": [
        "# Exploring the dataset\n",
        "\n",
        "Let's take a look at some of the examples of different images in our dataset. "
      ]
    },
    {
      "cell_type": "code",
      "metadata": {
        "id": "EStHFu9NVzZU"
      },
      "source": [
        "num_display = 4\n",
        "\n",
        "# Generate a uniform random sample from np.arange(num_train_examples) of size display_num:\n",
        "r_choices = np.random.choice(num_train_examples, num_display)\n",
        "\n",
        "plt.figure(figsize=(10, 15))\n",
        "for i in range(0, num_display):\n",
        "  index = r_choices[i]\n",
        "  x_pathname = x_train_filenames[index]\n",
        "  y_pathname = y_train_filenames[index]\n",
        "\n",
        "  img = Image.open(x_pathname)  \n",
        "  plt.subplot(num_display, 2, i * 2 + 1)\n",
        "  plt.imshow(img)\n",
        "  plt.title(\"Original Image\")\n",
        "  \n",
        "  mask = Image.open(y_pathname)  \n",
        "  plt.subplot(num_display, 2, i * 2 + 2)\n",
        "  plt.imshow(mask)\n",
        "  plt.title(\"Masked Image\")  \n",
        "  \n",
        "plt.suptitle(\"Examples of Images and their Masks\")\n",
        "plt.show()"
      ],
      "execution_count": null,
      "outputs": []
    },
    {
      "cell_type": "markdown",
      "metadata": {
        "id": "d4CPgvPiToB_"
      },
      "source": [
        "# Set up "
      ]
    },
    {
      "cell_type": "markdown",
      "metadata": {
        "id": "HfeMRgyoa2n6"
      },
      "source": [
        "Let’s begin by setting up some parameters. We’ll standardize and resize all the shapes of the images. We’ll also set up some training parameters, with some notes:\n",
        "\n",
        "* Due to the architecture of our UNet version, the size of the image must be evenly divisible by a factor of `32`, as we down sample the spatial resolution by a factor of `2` with each `MaxPooling2Dlayer`.\n",
        "* If your machine can support it, you will achieve better performance using a higher resolution input image (e.g. 512 by 512) as this will allow more precise localization and less loss of information during encoding. In addition, you can also make the model deeper."
      ]
    },
    {
      "cell_type": "code",
      "metadata": {
        "id": "oeDoiSFlothe"
      },
      "source": [
        "img_shape = (256, 256, 3)\n",
        "batch_size = 3\n",
        "epochs = 5"
      ],
      "execution_count": null,
      "outputs": []
    },
    {
      "cell_type": "markdown",
      "metadata": {
        "id": "_HONB9JbXxDM"
      },
      "source": [
        "# Build our input pipeline with `tf.data`\n",
        "Since we begin with filenames, we will need to build a robust and scalable data pipeline that will play nicely with our model. \n",
        "\n",
        "Data augmentation \"increases\" the amount of training data by augmenting them via a number of random transformations. During training time, our model would never see twice the exact same picture. This helps prevent overfitting and helps the model generalize better to unseen data.\n",
        "\n",
        "Our input pipeline will consist of the following steps:\n",
        "1. Read the bytes of the file in from the filename - for both the image and the label. Recall that our labels are actually images with each pixel annotated as car or background (1, 0). \n",
        "2. Decode the bytes into an image format\n",
        "3. Apply image transformations: (optional, according to input parameters)\n",
        "  * `resize` - Resize our images to a standard size (as determined by eda or computation/memory restrictions)\n",
        "    * The reason why this is optional is that U-Net is a fully convolutional network (e.g. with no fully connected units) and is thus not dependent on the input size. However, if you choose to not resize the images, you must use a batch size of 1, since you cannot batch variable image size together\n",
        "    * Alternatively, you could also bucket your images together and resize them per mini-batch to avoid resizing images as much, as resizing may affect your performance through interpolation, etc.\n",
        "  * `hue_delta` - Adjusts the hue of an RGB image by a random factor. This is only applied to the actual image (not our label image). The `hue_delta` must be in the interval `[0, 0.5]` \n",
        "  * `horizontal_flip` - flip the image horizontally along the central axis with a 0.5 probability. This transformation must be applied to both the label and the actual image. \n",
        "  * `width_shift_range` and `height_shift_range` are ranges (as a fraction of total width or height) within which to randomly translate the image either horizontally or vertically. This transformation must be applied to both the label and the actual image. \n",
        "  * `rescale` - rescale the image by a certain factor, e.g. 1/ 255.\n",
        "4. Shuffle the data, repeat the data (so we can iterate over it multiple times across epochs), batch the data, then prefetch a batch (for efficiency).\n",
        "\n",
        "It is important to note that these transformations that occur in your data pipeline must be symbolic transformations. "
      ]
    },
    {
      "cell_type": "markdown",
      "metadata": {
        "id": "3aGi28u8Cq9M"
      },
      "source": [
        "## Processing each pathname"
      ]
    },
    {
      "cell_type": "code",
      "metadata": {
        "id": "Fb_psznAggwr"
      },
      "source": [
        "def _process_pathnames(fname, label_path):\n",
        "  # 1. Process the image \n",
        "  img_str = tf.io.read_file(fname)\n",
        "  img = tf.image.decode_jpeg(img_str, channels=3)  # tf.Tensor([1280 1918 3],shape=(3,),dtype=int32)\n",
        "  \n",
        "  # 2. For processing the label: \n",
        "  label_img_str = tf.io.read_file(label_path) \n",
        "  # 2.a) load and get the first image of the GIF\n",
        "  # These are gif images so they return as (num_frames, h, w, c)\n",
        "  # In this case, for example: tf.Tensor([1 1280 1918 3],shape=(4,),dtype=int32)\n",
        "  label_img = tf.image.decode_gif(label_img_str)[0] # tf.Tensor([1280 1918 3],shape=(3,),dtype=int32)\n",
        "\n",
        "  # 2.b) We take the first channel only. \n",
        "  label_img = label_img[:, :, 0] # tf.Tensor([1280 1918],shape=(2,),dtype=int32)\n",
        "  label_img = tf.expand_dims(label_img, axis=-1) # tf.Tensor([1280 1918 1],shape=(3,),dtype=int32)\n",
        "\n",
        "  # These last two steps can also be performed as follows:\n",
        "  # label_img = label_img[:, :, 0:1] # tf.Tensor([1280 1918 1],shape=(3,),dtype=int32)\n",
        "\n",
        "  return img, label_img"
      ],
      "execution_count": null,
      "outputs": []
    },
    {
      "cell_type": "code",
      "metadata": {
        "id": "_meQpf8I1tad"
      },
      "source": [
        "# Check that the coded function above works OK\n",
        "# Also check the dimension of each tensor\n",
        "img, label_img = _process_pathnames(x_train_filenames[0], y_train_filenames[0])\n",
        "print(tf.shape(img)) # tf.Tensor([1280 1918 3], shape=(3,), dtype=int32)\n",
        "print(tf.shape(label_img)) # tf.Tensor([1280 1918 1], shape=(3,), dtype=int32)"
      ],
      "execution_count": null,
      "outputs": []
    },
    {
      "cell_type": "code",
      "metadata": {
        "id": "7MbFwEdlOjpf"
      },
      "source": [
        "# Show both the image and the mask to confirm that the previous function is \n",
        "# working as expected\n",
        "plt.figure(figsize=(10, 4))\n",
        "\n",
        "plt.subplot(1, 2, i * 2 + 1)\n",
        "plt.imshow(img.numpy())\n",
        "plt.title(\"Original Image\")\n",
        "  \n",
        "plt.subplot(1, 2, i * 2 + 2)\n",
        "plt.imshow(label_img.numpy().reshape((label_img.shape[0], label_img.shape[1])))\n",
        "plt.title(\"Masked Image\")  \n",
        "  \n",
        "plt.suptitle(\"Examples of Images and their Masks\")\n",
        "plt.show()"
      ],
      "execution_count": null,
      "outputs": []
    },
    {
      "cell_type": "markdown",
      "metadata": {
        "id": "Y4UE28JiCuOk"
      },
      "source": [
        "## Shifting the image"
      ]
    },
    {
      "cell_type": "code",
      "metadata": {
        "id": "1U1z1eRwdL7x"
      },
      "source": [
        "!pip install tensorflow-addons"
      ],
      "execution_count": null,
      "outputs": []
    },
    {
      "cell_type": "code",
      "metadata": {
        "id": "hj4CRGcZdDzX"
      },
      "source": [
        "import tensorflow_addons as tfa"
      ],
      "execution_count": null,
      "outputs": []
    },
    {
      "cell_type": "code",
      "metadata": {
        "id": "xdY046OqtGVH"
      },
      "source": [
        "def shift_img(output_img, label_img, width_shift_range, height_shift_range):\n",
        "  \"\"\"This fn will perform the horizontal or vertical shift\"\"\"\n",
        "  if width_shift_range or height_shift_range:\n",
        "      if width_shift_range:\n",
        "        width_shift_range = tf.random.uniform([], \n",
        "                                              -width_shift_range * img_shape[1],\n",
        "                                              width_shift_range * img_shape[1])\n",
        "      if height_shift_range:\n",
        "        height_shift_range = tf.random.uniform([],\n",
        "                                               -height_shift_range * img_shape[0],\n",
        "                                               height_shift_range * img_shape[0])\n",
        "      \n",
        "      output_img = tfa.image.translate(output_img,\n",
        "                                       [width_shift_range, height_shift_range])\n",
        "      label_img = tfa.image.translate(label_img,\n",
        "                                      [width_shift_range, height_shift_range])\n",
        "  return output_img, label_img"
      ],
      "execution_count": null,
      "outputs": []
    },
    {
      "cell_type": "markdown",
      "metadata": {
        "id": "qY253aZfCwd2"
      },
      "source": [
        "## Flipping the image randomly "
      ]
    },
    {
      "cell_type": "code",
      "metadata": {
        "id": "OogLSplstur9"
      },
      "source": [
        "def flip_img(horizontal_flip, tr_img, label_img):\n",
        "  if horizontal_flip:\n",
        "    flip_prob = tf.random.uniform([], 0.0, 1.0)\n",
        "    tr_img, label_img = tf.cond(tf.less(flip_prob, 0.5),\n",
        "                                lambda: (tf.image.flip_left_right(tr_img), tf.image.flip_left_right(label_img)),\n",
        "                                lambda: (tr_img, label_img))\n",
        "  return tr_img, label_img"
      ],
      "execution_count": null,
      "outputs": []
    },
    {
      "cell_type": "markdown",
      "metadata": {
        "id": "_YIJLIr5Cyyr"
      },
      "source": [
        "## Assembling our transformations into our augment function"
      ]
    },
    {
      "cell_type": "code",
      "metadata": {
        "id": "18WA0Sl3olyn"
      },
      "source": [
        "@tf.function\n",
        "def _augment(img,\n",
        "             label_img,\n",
        "             resize=None,  # Resize the image to some size e.g. [256, 256]\n",
        "             scale=1,  # Scale image e.g. 1 / 255.\n",
        "             hue_delta=0,  # Adjust the hue of an RGB image by random factor\n",
        "             horizontal_flip=False,  # Random left right flip,\n",
        "             width_shift_range=0,  # Randomly translate the image horizontally\n",
        "             height_shift_range=0):  # Randomly translate the image vertically \n",
        "  if resize is not None:\n",
        "    label_img = tf.image.resize(label_img, resize)\n",
        "    img = tf.image.resize(img, resize)\n",
        "  \n",
        "  if hue_delta:\n",
        "    img = tf.image.random_hue(img, hue_delta)\n",
        "  \n",
        "  img, label_img = flip_img(horizontal_flip, img, label_img)\n",
        "  img, label_img = shift_img(img, label_img, width_shift_range, height_shift_range)\n",
        "\n",
        "  label_img = tf.cast(label_img, dtype=tf.float32) * scale\n",
        "  img = tf.cast(img, dtype=tf.float32) * scale  \n",
        "\n",
        "  return img, label_img"
      ],
      "execution_count": null,
      "outputs": []
    },
    {
      "cell_type": "code",
      "metadata": {
        "id": "2unWHc3zvyM_"
      },
      "source": [
        "tr_cfg = {\n",
        "    'resize': [img_shape[0], img_shape[1]],\n",
        "    'scale': 1 / 255.,\n",
        "    'hue_delta': 0.1,\n",
        "    'horizontal_flip': True,\n",
        "    'width_shift_range': 0.1,\n",
        "    'height_shift_range': 0.1\n",
        "}\n",
        "tr_preprocessing_fn = functools.partial(_augment, **tr_cfg)"
      ],
      "execution_count": null,
      "outputs": []
    },
    {
      "cell_type": "code",
      "metadata": {
        "id": "2TUGTH6CvTAF"
      },
      "source": [
        "train_data_set = tf.data.Dataset.from_tensor_slices((x_train_filenames, y_train_filenames))\n",
        "train_data_set = (train_data_set\n",
        "                  .shuffle(len(x_train_filenames))\n",
        "                  .map(_process_pathnames, num_parallel_calls = AUTOTUNE)\n",
        "                  .map(tr_preprocessing_fn, num_parallel_calls = AUTOTUNE)\n",
        "                  .cache()\n",
        "                  .batch(batch_size)\n",
        "                  .prefetch(AUTOTUNE)\n",
        "                  )"
      ],
      "execution_count": null,
      "outputs": []
    },
    {
      "cell_type": "code",
      "metadata": {
        "id": "bBUufol8yv5T"
      },
      "source": [
        "val_cfg = {\n",
        "    'resize': [img_shape[0], img_shape[1]],\n",
        "    'scale': 1 / 255.,\n",
        "}\n",
        "val_preprocessing_fn = functools.partial(_augment, **val_cfg)"
      ],
      "execution_count": null,
      "outputs": []
    },
    {
      "cell_type": "code",
      "metadata": {
        "id": "x_yGOMUfyyvN"
      },
      "source": [
        "val_data_set = tf.data.Dataset.from_tensor_slices((x_val_filenames, y_val_filenames))\n",
        "val_data_set = (val_data_set\n",
        "                .map(_process_pathnames, num_parallel_calls = AUTOTUNE)\n",
        "                .map(val_preprocessing_fn, num_parallel_calls = AUTOTUNE)\n",
        "                .cache()\n",
        "                .batch(batch_size)\n",
        "                .prefetch(AUTOTUNE)\n",
        "                )"
      ],
      "execution_count": null,
      "outputs": []
    },
    {
      "cell_type": "code",
      "metadata": {
        "id": "N1mm72q6yJwd"
      },
      "source": [
        "for next_element in train_data_set:\n",
        "    batch_of_imgs, label = next_element\n",
        "    plt.figure(figsize=(10, 10))\n",
        "    img = batch_of_imgs[0]\n",
        "\n",
        "    plt.subplot(1, 2, 1)\n",
        "    plt.imshow(img)\n",
        "\n",
        "    plt.subplot(1, 2, 2)\n",
        "    plt.imshow(label[0, :, :, 0])\n",
        "    plt.show()\n",
        "    break"
      ],
      "execution_count": null,
      "outputs": []
    },
    {
      "cell_type": "code",
      "metadata": {
        "id": "4bvdRgk1zJtX"
      },
      "source": [
        "for next_element in val_data_set:\n",
        "    batch_of_imgs, label = next_element\n",
        "    plt.figure(figsize=(10, 10))\n",
        "    img = batch_of_imgs[0]\n",
        "\n",
        "    plt.subplot(1, 2, 1)\n",
        "    plt.imshow(img)\n",
        "\n",
        "    plt.subplot(1, 2, 2)\n",
        "    plt.imshow(label[0, :, :, 0])\n",
        "    plt.show()\n",
        "    break"
      ],
      "execution_count": null,
      "outputs": []
    },
    {
      "cell_type": "markdown",
      "metadata": {
        "id": "fvtxCncKsoRd"
      },
      "source": [
        "# Build the model\n",
        "We'll build the U-Net model. U-Net is especially good with segmentation tasks because it can localize well to provide high resolution segmentation masks. In addition, it works well with small datasets and is relatively robust against overfitting as the training data is in terms of the number of patches within an image, which is much larger than the number of training images itself. Unlike the original model, we will add batch normalization to each of our blocks. \n",
        "\n",
        "The Unet is built with an encoder portion and a decoder portion. The encoder portion is composed of a linear stack of [`Conv`](https://developers.google.com/machine-learning/glossary/#convolution), `BatchNorm`, and [`Relu`](https://developers.google.com/machine-learning/glossary/#ReLU) operations followed by a [`MaxPool`](https://developers.google.com/machine-learning/glossary/#pooling). Each `MaxPool` will reduce the spatial resolution of our feature map by a factor of 2. We keep track of the outputs of each block as we feed these high resolution feature maps with the decoder portion. The Decoder portion is comprised of UpSampling2D, Conv, BatchNorm, and Relus. Note that we concatenate the feature map of the same size on the decoder side. Finally, we add a final Conv operation that performs a convolution along the channels for each individual pixel (kernel size of (1, 1)) that outputs our final segmentation mask in grayscale. \n",
        "## The Keras Functional API\n",
        "The Keras functional API is used when you have multi-input/output models, shared layers, etc. It's a powerful API that allows you to manipulate tensors and build complex graphs with intertwined datastreams easily. In addition it makes **layers** and **models** both callable on tensors. \n",
        "  * To see more examples check out the [get started guide](https://keras.io/getting-started/functional-api-guide/). \n",
        "  \n",
        "  \n",
        "  We'll build these helper functions that will allow us to ensemble our model block operations easily and simply. "
      ]
    },
    {
      "cell_type": "code",
      "metadata": {
        "id": "zfew1i1F6bK-"
      },
      "source": [
        "def conv_block(input_tensor, num_filters):\n",
        "  encoder = layers.Conv2D(num_filters, (3, 3), padding='same')(input_tensor)\n",
        "  encoder = layers.BatchNormalization()(encoder)\n",
        "  encoder = layers.Activation('relu')(encoder)\n",
        "  encoder = layers.Conv2D(num_filters, (3, 3), padding='same')(encoder)\n",
        "  encoder = layers.BatchNormalization()(encoder)\n",
        "  encoder = layers.Activation('relu')(encoder)\n",
        "  return encoder\n",
        "\n",
        "def encoder_block(input_tensor, num_filters):\n",
        "  encoder = conv_block(input_tensor, num_filters)\n",
        "  encoder_pool = layers.MaxPooling2D((2, 2), strides=(2, 2))(encoder)\n",
        "  \n",
        "  return encoder_pool, encoder\n",
        "\n",
        "def decoder_block(input_tensor, concat_tensor, num_filters):\n",
        "  decoder = layers.Conv2DTranspose(num_filters, (2, 2), strides=(2, 2), padding='same')(input_tensor)\n",
        "  decoder = layers.concatenate([concat_tensor, decoder], axis=-1)\n",
        "  decoder = layers.BatchNormalization()(decoder)\n",
        "  decoder = layers.Activation('relu')(decoder)\n",
        "  decoder = layers.Conv2D(num_filters, (3, 3), padding='same')(decoder)\n",
        "  decoder = layers.BatchNormalization()(decoder)\n",
        "  decoder = layers.Activation('relu')(decoder)\n",
        "  decoder = layers.Conv2D(num_filters, (3, 3), padding='same')(decoder)\n",
        "  decoder = layers.BatchNormalization()(decoder)\n",
        "  decoder = layers.Activation('relu')(decoder)\n",
        "  return decoder"
      ],
      "execution_count": null,
      "outputs": []
    },
    {
      "cell_type": "code",
      "metadata": {
        "id": "xRLp21S_hpTn"
      },
      "source": [
        "inputs = layers.Input(shape=img_shape)\n",
        "# 256\n",
        "\n",
        "encoder0_pool, encoder0 = encoder_block(inputs, 32)\n",
        "# 128\n",
        "\n",
        "encoder1_pool, encoder1 = encoder_block(encoder0_pool, 64)\n",
        "# 64\n",
        "\n",
        "encoder2_pool, encoder2 = encoder_block(encoder1_pool, 128)\n",
        "# 32\n",
        "\n",
        "encoder3_pool, encoder3 = encoder_block(encoder2_pool, 256)\n",
        "# 16\n",
        "\n",
        "encoder4_pool, encoder4 = encoder_block(encoder3_pool, 512)\n",
        "# 8\n",
        "\n",
        "center = conv_block(encoder4_pool, 1024)\n",
        "# center\n",
        "\n",
        "decoder4 = decoder_block(center, encoder4, 512)\n",
        "# 16\n",
        "\n",
        "decoder3 = decoder_block(decoder4, encoder3, 256)\n",
        "# 32\n",
        "\n",
        "decoder2 = decoder_block(decoder3, encoder2, 128)\n",
        "# 64\n",
        "\n",
        "decoder1 = decoder_block(decoder2, encoder1, 64)\n",
        "# 128\n",
        "\n",
        "decoder0 = decoder_block(decoder1, encoder0, 32)\n",
        "# 256\n",
        "\n",
        "outputs = layers.Conv2D(1, (1, 1), activation='sigmoid')(decoder0)"
      ],
      "execution_count": null,
      "outputs": []
    },
    {
      "cell_type": "markdown",
      "metadata": {
        "id": "luDqDqu8c1AX"
      },
      "source": [
        "## Define your model\n",
        "Using functional API, you must define your model by specifying the inputs and outputs associated with the model. "
      ]
    },
    {
      "cell_type": "code",
      "metadata": {
        "id": "76QkTzXVczgc"
      },
      "source": [
        "model = models.Model(inputs=[inputs], outputs=[outputs])"
      ],
      "execution_count": null,
      "outputs": []
    },
    {
      "cell_type": "markdown",
      "metadata": {
        "id": "p0tNnmyOdtyr"
      },
      "source": [
        "# Defining custom metrics and loss functions\n",
        "Defining loss and metric functions are simple with Keras. Simply define a function that takes both the True labels for a given example and the Predicted labels for the same given example. "
      ]
    },
    {
      "cell_type": "markdown",
      "metadata": {
        "id": "sfuBVut0fogM"
      },
      "source": [
        "Dice loss is a metric that measures overlap. More info on optimizing for Dice coefficient (our dice loss) can be found in the [paper](http://campar.in.tum.de/pub/milletari2016Vnet/milletari2016Vnet.pdf), where it was introduced. \n",
        "\n",
        "We use dice loss here because it performs better at class imbalanced problems by design. In addition, maximizing the dice coefficient and IoU metrics are the actual objectives and goals of our segmentation task. Using cross entropy is more of a proxy which is easier to maximize. Instead, we maximize our objective directly. "
      ]
    },
    {
      "cell_type": "code",
      "metadata": {
        "id": "t_8_hbHECUAW"
      },
      "source": [
        "def dice_coeff(y_true, y_pred):\n",
        "    smooth = 1.\n",
        "    # Flatten\n",
        "    y_true_f = tf.reshape(y_true, [-1])\n",
        "    y_pred_f = tf.reshape(y_pred, [-1])\n",
        "    intersection = tf.reduce_sum(y_true_f * y_pred_f)\n",
        "    score = (2. * intersection + smooth) / (tf.reduce_sum(y_true_f) + tf.reduce_sum(y_pred_f) + smooth)\n",
        "    return score"
      ],
      "execution_count": null,
      "outputs": []
    },
    {
      "cell_type": "code",
      "metadata": {
        "id": "4DgINhlpNaxP"
      },
      "source": [
        "def dice_loss(y_true, y_pred):\n",
        "    loss = 1 - dice_coeff(y_true, y_pred)\n",
        "    return loss"
      ],
      "execution_count": null,
      "outputs": []
    },
    {
      "cell_type": "markdown",
      "metadata": {
        "id": "qqClGNFJdANU"
      },
      "source": [
        "Here, we'll use a specialized loss function that combines binary cross entropy and our dice loss. This is based on [individuals who competed within this competition obtaining better results empirically](https://www.kaggle.com/c/carvana-image-masking-challenge/discussion/40199). "
      ]
    },
    {
      "cell_type": "code",
      "metadata": {
        "id": "udrfi9JGB-bL"
      },
      "source": [
        "def bce_dice_loss(y_true, y_pred):\n",
        "    loss = losses.binary_crossentropy(y_true, y_pred) + dice_loss(y_true, y_pred)\n",
        "    return loss"
      ],
      "execution_count": null,
      "outputs": []
    },
    {
      "cell_type": "markdown",
      "metadata": {
        "id": "LifmpjXNc9Gz"
      },
      "source": [
        "## Compile your model\n",
        "We use our custom loss function to minimize. In addition, we specify what metrics we want to keep track of as we train. Note that metrics are not actually used during the training process to tune the parameters, but are instead used to measure performance of the training process. "
      ]
    },
    {
      "cell_type": "code",
      "metadata": {
        "id": "gflcWk2Cc8Bi"
      },
      "source": [
        "model.compile(optimizer='adam', loss=bce_dice_loss, metrics=[dice_loss])\n",
        "\n",
        "model.summary()"
      ],
      "execution_count": null,
      "outputs": []
    },
    {
      "cell_type": "markdown",
      "metadata": {
        "id": "8WG_8iZ_dMbK"
      },
      "source": [
        "## Train your model\n",
        "Training your model with `tf.data` involves simply providing the model's `fit` function with your training/validation dataset, the number of steps, and epochs.  \n",
        "\n",
        "We also include a Model callback, [`ModelCheckpoint`](https://keras.io/callbacks/#modelcheckpoint) that will save the model to disk after each epoch. We configure it such that it only saves our highest performing model. Note that saving the model capture more than just the weights of the model: by default, it saves the model architecture, weights, as well as information about the training process such as the state of the optimizer, etc."
      ]
    },
    {
      "cell_type": "code",
      "metadata": {
        "id": "1nHnj6199elZ"
      },
      "source": [
        "# save_model_path = '/tmp/weights.hdf5'\n",
        "save_model_path = '/content/seg_unet_carvana_weights.hdf5'\n",
        "cp = tf.keras.callbacks.ModelCheckpoint(filepath=save_model_path, monitor='val_dice_loss', mode='max', save_best_only=True)"
      ],
      "execution_count": null,
      "outputs": []
    },
    {
      "cell_type": "markdown",
      "metadata": {
        "id": "vJP_EvuTb4hH"
      },
      "source": [
        "Don't forget to specify our model callback in the `fit` function call. "
      ]
    },
    {
      "cell_type": "code",
      "metadata": {
        "id": "UMZcOrq5aaj1"
      },
      "source": [
        "history = model.fit(train_data_set, \n",
        "                   steps_per_epoch=int(np.ceil(num_train_examples / float(batch_size))),\n",
        "                   epochs=epochs,\n",
        "                   validation_data=val_data_set,\n",
        "                   validation_steps=int(np.ceil(num_val_examples / float(batch_size))),\n",
        "                   callbacks=[cp])"
      ],
      "execution_count": null,
      "outputs": []
    },
    {
      "cell_type": "markdown",
      "metadata": {
        "id": "gCAUsoxfTTrh"
      },
      "source": [
        "# Visualize training process"
      ]
    },
    {
      "cell_type": "code",
      "metadata": {
        "id": "AvntxymYn8rM"
      },
      "source": [
        "dice = history.history['dice_loss']\n",
        "val_dice = history.history['val_dice_loss']\n",
        "\n",
        "loss = history.history['loss']\n",
        "val_loss = history.history['val_loss']\n",
        "\n",
        "epochs_range = range(epochs)\n",
        "\n",
        "plt.figure(figsize=(16, 8))\n",
        "plt.subplot(1, 2, 1)\n",
        "plt.plot(epochs_range, dice, label='Training Dice Loss')\n",
        "plt.plot(epochs_range, val_dice, label='Validation Dice Loss')\n",
        "plt.legend(loc='upper right')\n",
        "plt.title('Training and Validation Dice Loss')\n",
        "\n",
        "plt.subplot(1, 2, 2)\n",
        "plt.plot(epochs_range, loss, label='Training Loss')\n",
        "plt.plot(epochs_range, val_loss, label='Validation Loss')\n",
        "plt.legend(loc='upper right')\n",
        "plt.title('Training and Validation Loss')\n",
        "\n",
        "plt.show()"
      ],
      "execution_count": null,
      "outputs": []
    },
    {
      "cell_type": "markdown",
      "metadata": {
        "id": "dWPhb87GdhkG"
      },
      "source": [
        "Even with only 5 epochs, we see strong performance."
      ]
    },
    {
      "cell_type": "code",
      "metadata": {
        "id": "ZTL3pja87Ezx"
      },
      "source": [
        "from google.colab import drive\n",
        "drive.mount('/content/drive')"
      ],
      "execution_count": null,
      "outputs": []
    },
    {
      "cell_type": "code",
      "metadata": {
        "id": "K85A0Mwi7QvM"
      },
      "source": [
        "!cp  \"/content/seg_unet_carvana_weights.hdf5\" -r \"/content/drive/MyDrive\""
      ],
      "execution_count": null,
      "outputs": []
    },
    {
      "cell_type": "markdown",
      "metadata": {
        "id": "MGFKf8yCTYbw"
      },
      "source": [
        "# Visualize actual performance \n",
        "We'll visualize our performance on the validation set.\n",
        "\n",
        "Note that in an actual setting (competition, deployment, etc.) we'd evaluate on the test set with the full image resolution. "
      ]
    },
    {
      "cell_type": "markdown",
      "metadata": {
        "id": "oIddsUcM_KeI"
      },
      "source": [
        "To load our model we have two options:\n",
        "1. Since our model architecture is already in memory, we can simply call `load_weights(save_model_path)`\n",
        "2. If you wanted to load the model from scratch (in a different setting without already having the model architecture in memory) we simply call \n",
        "\n",
        "```model = models.load_model(save_model_path, custom_objects={'bce_dice_loss': bce_dice_loss, 'mean_iou': mean_iou,'dice_coeff': dice_coeff})```, specificing the necessary custom objects, loss and metrics, that we used to train our model. \n",
        "\n",
        "If you want to see more examples, check our the [keras guide](https://keras.io/getting-started/faq/#how-can-i-save-a-keras-model)!"
      ]
    },
    {
      "cell_type": "code",
      "metadata": {
        "id": "eVr8qcFjne-h"
      },
      "source": [
        "save_model_path = \"/content/seg_unet_carvana_weights.hdf5\""
      ],
      "execution_count": null,
      "outputs": []
    },
    {
      "cell_type": "code",
      "metadata": {
        "id": "5Ph7acmrCXm6"
      },
      "source": [
        "# Alternatively, load the weights directly: model.load_weights(save_model_path)\n",
        "model = models.load_model(save_model_path, custom_objects={'bce_dice_loss': bce_dice_loss,\n",
        "                                                           'dice_coeff': dice_coeff,\n",
        "                                                           'dice_loss': dice_loss})"
      ],
      "execution_count": null,
      "outputs": []
    },
    {
      "cell_type": "code",
      "metadata": {
        "id": "1suknX_qvWIK"
      },
      "source": [
        "plt.figure(figsize=(10, 20))\n",
        "\n",
        "for i, element in enumerate(val_data_set):\n",
        "    batch_of_imgs, label = element\n",
        "    img = batch_of_imgs[0]\n",
        "    predicted_label = model.predict(batch_of_imgs)[0]\n",
        "    \n",
        "    plt.subplot(5, 3, 3 * i + 1)\n",
        "    plt.imshow(img)\n",
        "    plt.title(\"Input image\")\n",
        "    \n",
        "    plt.subplot(5, 3, 3 * i + 2)\n",
        "    plt.imshow(label[0, :, :, 0])\n",
        "    plt.title(\"Actual Mask\")\n",
        "    \n",
        "    plt.subplot(5, 3, 3 * i + 3)\n",
        "    plt.imshow(predicted_label[:, :, 0])\n",
        "    plt.title(\"Predicted Mask\")\n",
        "\n",
        "    if i==4:\n",
        "      break\n",
        "\n",
        "plt.suptitle(\"Examples of Input Image, Label, and Prediction\")\n",
        "plt.show()"
      ],
      "execution_count": null,
      "outputs": []
    }
  ]
}