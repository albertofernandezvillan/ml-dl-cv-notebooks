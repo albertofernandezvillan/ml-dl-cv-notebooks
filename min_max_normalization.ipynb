{
  "nbformat": 4,
  "nbformat_minor": 0,
  "metadata": {
    "colab": {
      "name": "min_max_normalization.ipynb",
      "provenance": [],
      "collapsed_sections": [],
      "authorship_tag": "ABX9TyPzBv+7L94FUE5RfRwlx9xE",
      "include_colab_link": true
    },
    "kernelspec": {
      "name": "python3",
      "display_name": "Python 3"
    },
    "language_info": {
      "name": "python"
    }
  },
  "cells": [
    {
      "cell_type": "markdown",
      "metadata": {
        "id": "view-in-github",
        "colab_type": "text"
      },
      "source": [
        "<a href=\"https://colab.research.google.com/github/albertofernandezvillan/ml-dl-cv-notebooks/blob/main/min_max_normalization.ipynb\" target=\"_parent\"><img src=\"https://colab.research.google.com/assets/colab-badge.svg\" alt=\"Open In Colab\"/></a>"
      ]
    },
    {
      "cell_type": "code",
      "metadata": {
        "id": "mqg8lClW6NPn"
      },
      "source": [
        "import sklearn\n",
        "# import sklearn_pandas"
      ],
      "execution_count": 2,
      "outputs": []
    },
    {
      "cell_type": "markdown",
      "metadata": {
        "id": "rrZXp6oxXYYu"
      },
      "source": [
        "**Load data** and split the dataset into train (80%), test (10%) and val (10%)."
      ]
    },
    {
      "cell_type": "code",
      "metadata": {
        "id": "omM8dYWe6j-2"
      },
      "source": [
        "# Load iris dataset (multi-class classification: 150 samples, 3 classes, 4 features):\n",
        "x,y = sklearn.datasets.load_iris(return_X_y = True)"
      ],
      "execution_count": 8,
      "outputs": []
    },
    {
      "cell_type": "code",
      "metadata": {
        "id": "KNwND57M7YAX"
      },
      "source": [
        "# Split dataset into train (80%), test (10%) and val (10%)\n",
        "x_train, x_test, y_train, y_test = sklearn.model_selection.train_test_split(x, y, test_size=0.2, random_state=123)\n",
        "x_test, x_val, y_test, y_val = sklearn.model_selection.train_test_split(x_test, y_test, test_size=0.5, random_state=123)\n",
        "\n",
        "print(\"x_train {}, x_test {}, x_val {}\".format(x_train.shape, x_test.shape, x_val.shape))\n",
        "print(\"y_train {}, y_test {}, y_val {}\".format(y_train.shape, y_test.shape, y_val.shape))\n",
        "print(\"Show first examples\")\n",
        "print(x_train[:10,:])\n",
        "print(y_train[:10])"
      ],
      "execution_count": null,
      "outputs": []
    },
    {
      "cell_type": "markdown",
      "metadata": {
        "id": "nz_QhRcrVo3y"
      },
      "source": [
        "**Min-Max normalization**: all features will be transformed into the range `[0,1]` meaning that the minimum and maximum value of a feature/variable is going to be `0` and `1`, respectively."
      ]
    },
    {
      "cell_type": "code",
      "metadata": {
        "id": "hHd9s7Og7_Xl"
      },
      "source": [
        "import numpy as np\n",
        "\n",
        "# min-max normalization\n",
        "# All features will be transformed into the range [0,1] \n",
        "def min_max_normalization(arr):\n",
        "  min_val = np.min(arr, axis=0)\n",
        "  max_val = np.max(arr, axis=0)\n",
        "  arr_normalized = (arr - min_val) / (max_val - min_val)\n",
        "  return arr_normalized"
      ],
      "execution_count": 83,
      "outputs": []
    },
    {
      "cell_type": "code",
      "metadata": {
        "colab": {
          "base_uri": "https://localhost:8080/"
        },
        "id": "RtTmL5jzITjg",
        "outputId": "1c2cebec-a14c-4a31-d670-d05f84249685"
      },
      "source": [
        "data = x_train[:3,:]\n",
        "print(data)"
      ],
      "execution_count": 81,
      "outputs": [
        {
          "output_type": "stream",
          "text": [
            "[[7.4 2.8 6.1 1.9]\n",
            " [6.  2.2 5.  1.5]\n",
            " [4.7 3.2 1.6 0.2]]\n"
          ],
          "name": "stdout"
        }
      ]
    },
    {
      "cell_type": "code",
      "metadata": {
        "colab": {
          "base_uri": "https://localhost:8080/"
        },
        "id": "UMCP8CB7WNwu",
        "outputId": "f022f8a0-7b1b-4ff1-b2fe-01d72e1c0c73"
      },
      "source": [
        "normalized_data = min_max_normalization(data)\n",
        "print(normalized_data)"
      ],
      "execution_count": 82,
      "outputs": [
        {
          "output_type": "stream",
          "text": [
            "[[1.         0.6        1.         1.        ]\n",
            " [0.48148148 0.         0.75555556 0.76470588]\n",
            " [0.         1.         0.         0.        ]]\n"
          ],
          "name": "stdout"
        }
      ]
    },
    {
      "cell_type": "markdown",
      "metadata": {
        "id": "eeNYZ_R4WbjX"
      },
      "source": [
        "Note that we can use [MinMaxScaler()](https://scikit-learn.org/stable/modules/generated/sklearn.preprocessing.MinMaxScaler.html). "
      ]
    },
    {
      "cell_type": "code",
      "metadata": {
        "colab": {
          "base_uri": "https://localhost:8080/"
        },
        "id": "2CVxmFt3Is-b",
        "outputId": "e5aa9c69-44f8-4e08-e877-a08e4561b668"
      },
      "source": [
        "from sklearn.preprocessing import MinMaxScaler\n",
        "scaler = MinMaxScaler()\n",
        "scaler.fit(data)\n",
        "scaled = scaler.transform(data)\n",
        "print(scaled)"
      ],
      "execution_count": 75,
      "outputs": [
        {
          "output_type": "stream",
          "text": [
            "[[1.         0.6        1.         1.        ]\n",
            " [0.48148148 0.         0.75555556 0.76470588]\n",
            " [0.         1.         0.         0.        ]]\n"
          ],
          "name": "stdout"
        }
      ]
    },
    {
      "cell_type": "code",
      "metadata": {
        "colab": {
          "base_uri": "https://localhost:8080/"
        },
        "id": "7bOl_NzNCFdG",
        "outputId": "97bf1698-abfb-46fd-b886-7d0999e29a3a"
      },
      "source": [
        "print(scaler.data_max_)\n",
        "print(scaler.data_min_)\n",
        "print(scaler.data_range_)"
      ],
      "execution_count": 76,
      "outputs": [
        {
          "output_type": "stream",
          "text": [
            "[7.4 3.2 6.1 1.9]\n",
            "[4.7 2.2 1.6 0.2]\n",
            "[2.7 1.  4.5 1.7]\n"
          ],
          "name": "stdout"
        }
      ]
    },
    {
      "cell_type": "markdown",
      "metadata": {
        "id": "HtVzCswkXF8h"
      },
      "source": [
        "Once tested that our function `min_max_normalization()` works like expected, we can normalize all the data. But before, **we should calculate the global max and global min for the entire dataset** to take into account these values when normalizing the data."
      ]
    },
    {
      "cell_type": "code",
      "metadata": {
        "colab": {
          "base_uri": "https://localhost:8080/"
        },
        "id": "_yXfEHXMZAtk",
        "outputId": "d1e9acda-90df-47ce-f199-e86c1ef61bf1"
      },
      "source": [
        "global_min = np.min(x, axis=0)\n",
        "global_max = np.max(x, axis=0)\n",
        "print(global_min)\n",
        "print(global_max)"
      ],
      "execution_count": 84,
      "outputs": [
        {
          "output_type": "stream",
          "text": [
            "[4.3 2.  1.  0.1]\n",
            "[7.9 4.4 6.9 2.5]\n"
          ],
          "name": "stdout"
        }
      ]
    },
    {
      "cell_type": "code",
      "metadata": {
        "id": "IAt7JAvMZVnN"
      },
      "source": [
        "import numpy as np\n",
        "\n",
        "# min-max normalization\n",
        "# All features will be transformed into the range [0,1] \n",
        "def min_max_norm(arr, g_min, g_max):\n",
        "  arr_normalized = (arr - g_min) / (g_max - g_min)\n",
        "  return arr_normalized"
      ],
      "execution_count": 86,
      "outputs": []
    },
    {
      "cell_type": "code",
      "metadata": {
        "id": "XuLNT4MaXMIs"
      },
      "source": [
        "x_train_scaled = min_max_norm(x_train, global_min, global_max)\n",
        "x_test_scaled = min_max_norm(x_test, global_min, global_max)\n",
        "x_val_scaled = min_max_norm(x_val, global_min, global_max)"
      ],
      "execution_count": 87,
      "outputs": []
    },
    {
      "cell_type": "code",
      "metadata": {
        "colab": {
          "base_uri": "https://localhost:8080/"
        },
        "id": "UI4UN1k-X4gZ",
        "outputId": "b1f47814-bcf1-400b-ae10-b51355a637cb"
      },
      "source": [
        "print(x_train_scaled[:10,:])"
      ],
      "execution_count": 88,
      "outputs": [
        {
          "output_type": "stream",
          "text": [
            "[[0.86111111 0.33333333 0.86440678 0.75      ]\n",
            " [0.47222222 0.08333333 0.6779661  0.58333333]\n",
            " [0.11111111 0.5        0.10169492 0.04166667]\n",
            " [0.22222222 0.625      0.06779661 0.04166667]\n",
            " [0.47222222 0.08333333 0.50847458 0.375     ]\n",
            " [0.19444444 0.125      0.38983051 0.375     ]\n",
            " [1.         0.75       0.91525424 0.79166667]\n",
            " [0.30555556 0.79166667 0.11864407 0.125     ]\n",
            " [0.30555556 0.79166667 0.05084746 0.125     ]\n",
            " [0.41666667 0.29166667 0.49152542 0.45833333]]\n"
          ],
          "name": "stdout"
        }
      ]
    },
    {
      "cell_type": "code",
      "metadata": {
        "colab": {
          "base_uri": "https://localhost:8080/"
        },
        "id": "F9gCOtGLZ0tc",
        "outputId": "54817883-78b7-4e9f-acaa-ae483dda2981"
      },
      "source": [
        "from sklearn.preprocessing import MinMaxScaler\n",
        "scaler = MinMaxScaler()\n",
        "# Compute the minimum and maximum to be used for later scaling.\n",
        "scaler.fit(x)\n",
        "# Scale the features:\n",
        "scaled = scaler.transform(x_train)\n",
        "print(scaled[:10,:])"
      ],
      "execution_count": 89,
      "outputs": [
        {
          "output_type": "stream",
          "text": [
            "[[0.86111111 0.33333333 0.86440678 0.75      ]\n",
            " [0.47222222 0.08333333 0.6779661  0.58333333]\n",
            " [0.11111111 0.5        0.10169492 0.04166667]\n",
            " [0.22222222 0.625      0.06779661 0.04166667]\n",
            " [0.47222222 0.08333333 0.50847458 0.375     ]\n",
            " [0.19444444 0.125      0.38983051 0.375     ]\n",
            " [1.         0.75       0.91525424 0.79166667]\n",
            " [0.30555556 0.79166667 0.11864407 0.125     ]\n",
            " [0.30555556 0.79166667 0.05084746 0.125     ]\n",
            " [0.41666667 0.29166667 0.49152542 0.45833333]]\n"
          ],
          "name": "stdout"
        }
      ]
    },
    {
      "cell_type": "code",
      "metadata": {
        "colab": {
          "base_uri": "https://localhost:8080/"
        },
        "id": "ypN9cBE6bBPC",
        "outputId": "ebb282f2-9fc9-4785-d7c3-2eaa2a080086"
      },
      "source": [
        "# Verify manually vs scikit-learn estimation\n",
        "print(np.allclose(x_train_scaled, scaled)) # This should return True"
      ],
      "execution_count": 91,
      "outputs": [
        {
          "output_type": "stream",
          "text": [
            "True\n"
          ],
          "name": "stdout"
        }
      ]
    },
    {
      "cell_type": "markdown",
      "metadata": {
        "id": "KRr3YthebZsI"
      },
      "source": [
        "**The effect of the transform in a visual example**.\n",
        "We plot the first two features for all the training data (before and after normalization). Moreover, the data is shown in three different colors because there are three classes in our dataset. "
      ]
    },
    {
      "cell_type": "code",
      "metadata": {
        "colab": {
          "base_uri": "https://localhost:8080/",
          "height": 281
        },
        "id": "eYm4n7E5banj",
        "outputId": "c090804d-8ffe-44da-e0d8-121f69869cfe"
      },
      "source": [
        "import matplotlib.pyplot as plt\n",
        "\n",
        "fig, axes = plt.subplots(1,2)\n",
        "\n",
        "axes[0].scatter(x_train[:,0], x_train[:,1], c=y_train)\n",
        "axes[0].set_title(\"Original data\")\n",
        "\n",
        "axes[1].scatter(x_train_scaled[:,0], x_train_scaled[:,1], c=y_train)\n",
        "\n",
        "axes[1].set_title(\"MinMax scaled data\")\n",
        "plt.show()"
      ],
      "execution_count": 101,
      "outputs": [
        {
          "output_type": "display_data",
          "data": {
            "image/png": "[encoded data removed]",
            "text/plain": [
              "<Figure size 432x288 with 2 Axes>"
            ]
          },
          "metadata": {
            "tags": [],
            "needs_background": "light"
          }
        }
      ]
    },
    {
      "cell_type": "markdown",
      "metadata": {
        "id": "xqWdpcO8aKpf"
      },
      "source": [
        "At this point, we have min-max normalized our dataset and shown the effect of the transformation."
      ]
    },
    {
      "cell_type": "markdown",
      "metadata": {
        "id": "ZnyjiIpimh4_"
      },
      "source": [
        "**K-Folds cross-validator**: Provides train/test indices to split data in train/test sets. Split dataset into `k` consecutive folds (without shuffling by default). Each fold is then used once as a validation while the `k - 1` remaining folds form the training set."
      ]
    },
    {
      "cell_type": "code",
      "metadata": {
        "id": "pto8pV6TkIq3"
      },
      "source": [
        "from sklearn.model_selection import KFold\n",
        "from sklearn.svm import SVC\n",
        "from sklearn.metrics import accuracy_score"
      ],
      "execution_count": 117,
      "outputs": []
    },
    {
      "cell_type": "code",
      "metadata": {
        "id": "7CJU2GTMkLtG"
      },
      "source": [
        "kfold = KFold()"
      ],
      "execution_count": 111,
      "outputs": []
    },
    {
      "cell_type": "code",
      "metadata": {
        "id": "ZCBwtJnOkY1A"
      },
      "source": [
        "x_train_test_scaled = np.concatenate((x_train_scaled, x_test_scaled), axis=0)\n",
        "y_train_test = np.concatenate((y_train, y_test), axis=0)"
      ],
      "execution_count": 113,
      "outputs": []
    },
    {
      "cell_type": "code",
      "metadata": {
        "id": "q06jYlwJkPC9"
      },
      "source": [
        "accuracies = []\n",
        "for index_train, index_test in kfold.split(x_train_test_scaled):\n",
        "  _x_train = x_train_test_scaled[index_train]\n",
        "  _x_test = x_train_test_scaled[index_test]\n",
        "\n",
        "  _y_train = y_train_test[index_train]\n",
        "  _y_test = y_train_test[index_test]\n",
        "\n",
        "  clf = SVC()\n",
        "  clf.fit(_x_train, _y_train)\n",
        "\n",
        "  predictions = clf.predict(_x_test)\n",
        "\n",
        "  accuracies.append(accuracy_score(_y_test, predictions))"
      ],
      "execution_count": 118,
      "outputs": []
    },
    {
      "cell_type": "code",
      "metadata": {
        "colab": {
          "base_uri": "https://localhost:8080/"
        },
        "id": "IKXc-0-TmTIc",
        "outputId": "b0af21c9-8118-4086-a5be-babe78842916"
      },
      "source": [
        "print(accuracies)"
      ],
      "execution_count": 119,
      "outputs": [
        {
          "output_type": "stream",
          "text": [
            "[0.9629629629629629, 1.0, 0.8888888888888888, 1.0, 0.9629629629629629]\n"
          ],
          "name": "stdout"
        }
      ]
    },
    {
      "cell_type": "markdown",
      "metadata": {
        "id": "V-k81aGxnLUU"
      },
      "source": [
        "References:\n",
        "* https://machinelearningmastery.com/standardscaler-and-minmaxscaler-transforms-in-python/\n",
        "* https://interactivechaos.com/es/manual/tutorial-de-machine-learning/minmaxscaler\n",
        "* https://towardsdatascience.com/everything-you-need-to-know-about-min-max-normalization-in-python-b79592732b79"
      ]
    }
  ]
}